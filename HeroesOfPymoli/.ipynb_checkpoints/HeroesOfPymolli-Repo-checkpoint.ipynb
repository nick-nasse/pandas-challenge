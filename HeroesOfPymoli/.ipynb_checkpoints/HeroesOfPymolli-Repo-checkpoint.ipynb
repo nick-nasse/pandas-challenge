{
 "cells": [
  {
   "cell_type": "code",
   "execution_count": null,
   "metadata": {},
   "outputs": [],
   "source": [
    "# Dependencies and Setup\n",
    "import pandas as pd\n",
    "\n",
    "# File to Load (Remember to Change These)\n",
    "file_to_load = \"Resources/purchase_data.csv\"\n",
    "\n",
    "# Read Purchasing File and store into Pandas data frame\n",
    "purchase_data = pd.read_csv(file_to_load)"
   ]
  },
  {
   "cell_type": "code",
   "execution_count": null,
   "metadata": {},
   "outputs": [],
   "source": [
    "purchase_data.head()"
   ]
  },
  {
   "cell_type": "code",
   "execution_count": null,
   "metadata": {},
   "outputs": [],
   "source": [
    "purchase_data[\"SN\"].value_counts()"
   ]
  },
  {
   "cell_type": "code",
   "execution_count": null,
   "metadata": {},
   "outputs": [],
   "source": [
    "deduped = purchase_data.drop_duplicates(subset =\"SN\")"
   ]
  },
  {
   "cell_type": "code",
   "execution_count": null,
   "metadata": {},
   "outputs": [],
   "source": [
    "deduped[\"SN\"].count()\n",
    "total_players = deduped[\"SN\"].count()"
   ]
  },
  {
   "cell_type": "code",
   "execution_count": null,
   "metadata": {},
   "outputs": [],
   "source": [
    "# Purchasing Analysis\n",
    "\n",
    "#Unique Items\n",
    "Unique_Items = purchase_data[\"Item ID\"].nunique()\n",
    "Unique_Items\n",
    "\n",
    "# Average Price \n",
    "avg_price = purchase_data[\"Price\"].mean()\n",
    "avg_price = \"${:,.2f}\".format(avg_price)\n",
    "avg_price \n",
    "\n",
    "#Total Revenue\n",
    "total_rev = purchase_data[\"Price\"].sum()\n",
    "total_rev = \"${:,.2f}\".format(total_rev)\n",
    "total_rev\n",
    "\n",
    "# Number of Purchases\n",
    "total_purchases = purchase_data[\"Purchase ID\"].count()\n",
    "total_purchases\n",
    "\n",
    "df = pd.DataFrame([[Unique_Items, avg_price, total_purchases, total_rev]], columns = [\"Number of Unique Items\", \"Average Price\", \"Number of Purchases\", \"Total Revenue\"])"
   ]
  },
  {
   "cell_type": "code",
   "execution_count": null,
   "metadata": {},
   "outputs": [],
   "source": [
    "# Purchasing Analysis alternate method\n",
    "summary_dict = {}\n",
    "\n",
    "summary_dict[\"Unique_Items\"] = purchase_data[\"Item ID\"].nunique()\n",
    "summary_dict[\"avg_price\"] = purchase_data[\"Price\"].mean()\n",
    "summary_dict[\"total_rev\"] = purchase_data[\"Price\"].sum()\n",
    "summary_dict[\"total_purchases\"] = purchase_data[\"Purchase ID\"].count()\n",
    "\n",
    "summary_dict = summary_dict.squeeze()\n",
    "\n",
    "summary_stats = pd.DataFrame.from_dict(summary_dict, orient=\"columns\")"
   ]
  },
  {
   "cell_type": "code",
   "execution_count": null,
   "metadata": {},
   "outputs": [],
   "source": [
    "#Gender Dataframe \n",
    "\n",
    "#group by gender\n",
    "gender_group = deduped.groupby(\"Gender\")\n",
    "gender_group[\"SN\"].count()\n",
    "\n",
    "#create list of users by gender\n",
    "gender_list = gender_group[\"SN\"].count()\n",
    "gender_list\n",
    "\n",
    "#turn list into Dataframe\n",
    "gender_df = pd.DataFrame({\"Total Count\": gender_list})\n",
    "gender_df\n",
    "\n",
    "#create new DF column with percentage of whole\n",
    "gender_df['Percentage of Players'] = ((gender_df['Total Count'] / gender_df['Total Count'].sum())*100).round(2).astype(str) + '%'\n",
    "gender_df\n",
    "\n",
    "\n",
    "#sort dataframe\n",
    "gender_df.sort_values(by='Total Count', ascending=False)"
   ]
  },
  {
   "cell_type": "code",
   "execution_count": null,
   "metadata": {},
   "outputs": [],
   "source": [
    "# Purchasing Analysis - Gender\n",
    "\n",
    "gender_purchasing = purchase_data.groupby(\"Gender\")\n",
    "\n",
    "g_p_count = gender_purchasing[\"Purchase ID\"].count()\n",
    "g_p_count\n",
    "\n",
    "g_p_price = gender_purchasing[\"Price\"].mean()\n",
    "g_p_price \n",
    "\n",
    "g_p_value = gender_purchasing[\"Price\"].sum()\n",
    "g_p_value\n",
    "\n",
    "gpa_df = pd.DataFrame({\"Purchase Count\": g_p_count, \"Average Purchase Price\": g_p_price, \"Total Purchase Value\": g_p_value})\n",
    "gpa_df\n",
    "\n",
    "gpa_df.sort_values(by='Purchase Count', ascending=False)\n",
    "\n",
    "gpa_df[\"Avg Total Purchase per Person\"] = gpa_df['Total Purchase Value'] / gender_df['Total Count']\n",
    "gpa_df\n",
    "\n",
    "gpa_df[\"Avg Total Purchase per Person\"] = gpa_df[\"Avg Total Purchase per Person\"].map(\"${:.2f}\".format)\n",
    "gpa_df['Total Purchase Value'] = gpa_df['Total Purchase Value'].map(\"${:.2f}\".format)\n",
    "gpa_df['Average Purchase Price'] = gpa_df['Average Purchase Price'].map(\"${:.2f}\".format)\n",
    "\n",
    "gpa_df"
   ]
  },
  {
   "cell_type": "code",
   "execution_count": null,
   "metadata": {},
   "outputs": [],
   "source": [
    "#Age Demographics \n",
    "\n",
    "bins = [0, 9, 14, 19, 24, 29, 34, 39, 200]\n",
    "group_names = [\"<10\", \"10-14\", \"15-19\", \"20-24\", \"25-29\", \"30-34\", \"35-39\", \"40+\"]\n",
    "\n",
    "deduped[\"Age Range\"] = pd.cut(deduped[\"Age\"], bins, labels=group_names, include_lowest=True)\n",
    "deduped.head()\n",
    "\n",
    "age_group = deduped.groupby(\"Age Range\")\n",
    "age_group\n",
    "\n",
    "age_group_df = age_group[\"Age Range\"].count().to_frame(name=\"Total Count\").reset_index()\n",
    "age_group_df.set_index(\"Age Range\")\n",
    "\n",
    "age_group_df[\"Percentage of Players\"] = ((age_group_df['Total Count'] / total_players)*100).round(2).astype(str) + '%'\n",
    "age_group_df = age_group_df.set_index(\"Age Range\")\n",
    "age_group_df"
   ]
  },
  {
   "cell_type": "code",
   "execution_count": null,
   "metadata": {},
   "outputs": [],
   "source": [
    "#Purchasing Analysis Age \n",
    "purchase_data[\"Age Range\"] = pd.cut(purchase_data[\"Age\"], bins, labels=group_names, include_lowest=True)\n",
    "purchase_age_group = purchase_data.groupby(\"Age Range\")\n",
    "purchase_age_group_avg = purchase_age_group[\"Price\"].mean().to_frame(name=\"Average Purchase Price\").reset_index()\n",
    "purchase_age_group_avg\n",
    "\n",
    "purchase_age_group_total = purchase_age_group[\"Price\"].sum().to_frame(name=\"Total Purchase Value\").reset_index()\n",
    "purchase_age_group_total\n",
    "\n",
    "purchase_age_group_count = purchase_age_group[\"Purchase ID\"].count().to_frame(name=\"Purchase Count\").reset_index()\n",
    "purchase_age_group_count\n",
    "\n",
    "purchase_age_group_merged = pd.merge(purchase_age_group_count, purchase_age_group_avg, on=\"Age Range\")\n",
    "purchase_age_group_merged\n",
    "\n",
    "purchase_age_group_merged = pd.merge(purchase_age_group_merged, purchase_age_group_total, on=\"Age Range\")\n",
    "purchase_age_group_merged\n",
    "\n",
    "purchase_age_group_merged = purchase_age_group_merged.set_index(\"Age Range\") \n",
    "purchase_age_group_merged\n",
    "\n",
    "purchase_age_group_merged[\"Avg Total Purchase per Person\"] = purchase_age_group_merged['Total Purchase Value'] / age_group_df[\"Total Count\"] \n",
    "purchase_age_group_merged\n",
    "\n",
    "purchase_age_group_merged[\"Average Purchase Price\"] = purchase_age_group_merged[\"Average Purchase Price\"].map(\"${:.2f}\".format)\n",
    "purchase_age_group_merged[\"Total Purchase Value\"] = purchase_age_group_merged[\"Total Purchase Value\"].map(\"${:.2f}\".format)\n",
    "purchase_age_group_merged[\"Avg Total Purchase per Person\"] = purchase_age_group_merged[\"Avg Total Purchase per Person\"].map(\"${:.2f}\".format)\n",
    "purchase_age_group_merged"
   ]
  },
  {
   "cell_type": "code",
   "execution_count": null,
   "metadata": {},
   "outputs": [],
   "source": [
    "# Top Spenders\n",
    "\n",
    "top_spenders2 = purchase_data.groupby('SN').agg(\n",
    "    purchase_count=('Purchase ID', \"count\"),\n",
    "    avg_purchase_price=('Price', \"mean\"),\n",
    "    total_purchase_value=('Price', sum)\n",
    ")\n",
    "\n",
    "top_spenders2 = top_spenders2.sort_values(by='total_purchase_value', ascending=False)\n",
    "top_spenders2\n",
    "\n",
    "top_spenders2[\"avg_purchase_price\"] = top_spenders2[\"avg_purchase_price\"].map(\"${:.2f}\".format)\n",
    "top_spenders2[\"total_purchase_value\"] = top_spenders2[\"total_purchase_value\"].map(\"${:.2f}\".format)\n",
    "top_spenders2.head()\n"
   ]
  },
  {
   "cell_type": "code",
   "execution_count": null,
   "metadata": {},
   "outputs": [],
   "source": [
    "# Most Popular Items\n",
    "\n",
    "popular = purchase_data.groupby([\"Item ID\", \"Item Name\"]).agg(\n",
    "    purchase_count=('Purchase ID', \"count\"),\n",
    "    item_price=(\"Price\", \"mean\"),\n",
    "    total_purchase_value=('Price', sum)\n",
    ")\n",
    "\n",
    "popular.head()\n",
    "\n",
    "popular = popular.sort_values(by='purchase_count', ascending=False)\n",
    "popular.head()\n",
    "\n",
    "popular[\"item_price\"] = popular[\"item_price\"].map(\"${:.2f}\".format)\n",
    "popular[\"total_purchase_value\"] = popular[\"total_purchase_value\"].map(\"${:.2f}\".format)\n",
    "\n",
    "popular.head()"
   ]
  },
  {
   "cell_type": "code",
   "execution_count": null,
   "metadata": {},
   "outputs": [],
   "source": [
    "# Most Profitable Items \n",
    "\n",
    "most_profitable = purchase_data.groupby([\"Item ID\", \"Item Name\"]).agg(\n",
    "    purchase_count=('Purchase ID', \"count\"),\n",
    "    item_price=(\"Price\", \"mean\"),\n",
    "    total_purchase_value=('Price', sum)\n",
    ")\n",
    "\n",
    "most_profitable = most_profitable.sort_values(by='total_purchase_value', ascending=False)\n",
    "most_profitable\n",
    "\n",
    "most_profitable[\"item_price\"] = most_profitable[\"item_price\"].map(\"${:.2f}\".format)\n",
    "most_profitable[\"total_purchase_value\"] = most_profitable[\"total_purchase_value\"].map(\"${:.2f}\".format)\n",
    "\n",
    "most_profitable.head()"
   ]
  }
 ],
 "metadata": {
  "kernelspec": {
   "display_name": "Python 3",
   "language": "python",
   "name": "python3"
  },
  "language_info": {
   "codemirror_mode": {
    "name": "ipython",
    "version": 3
   },
   "file_extension": ".py",
   "mimetype": "text/x-python",
   "name": "python",
   "nbconvert_exporter": "python",
   "pygments_lexer": "ipython3",
   "version": "3.7.7"
  }
 },
 "nbformat": 4,
 "nbformat_minor": 4
}
